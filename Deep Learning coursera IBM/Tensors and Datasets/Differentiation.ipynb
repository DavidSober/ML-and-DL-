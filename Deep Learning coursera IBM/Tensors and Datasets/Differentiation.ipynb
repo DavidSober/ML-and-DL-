{
 "cells": [
  {
   "cell_type": "code",
   "execution_count": 1,
   "metadata": {},
   "outputs": [],
   "source": [
    "import torch\n",
    "import numpy as np\n",
    "import pandas as pd"
   ]
  },
  {
   "attachments": {},
   "cell_type": "markdown",
   "metadata": {},
   "source": [
    "# Derivatives"
   ]
  },
  {
   "cell_type": "code",
   "execution_count": 10,
   "metadata": {},
   "outputs": [
    {
     "name": "stdout",
     "output_type": "stream",
     "text": [
      "tensor(4.)\n"
     ]
    },
    {
     "data": {
      "text/plain": [
       "tensor(1.)"
      ]
     },
     "execution_count": 10,
     "metadata": {},
     "output_type": "execute_result"
    }
   ],
   "source": [
    "# I doubt this will be used much since normally you do as much analytical math outside of code as possible\n",
    "# then input the results of that but here it is \n",
    "\n",
    "# we are evaluating the function if x = 2, requires grad means we will later perform a derivative\n",
    "x = torch.tensor(2.0, requires_grad=True) \n",
    "\n",
    "# now we make the actual function\n",
    "y = x**2\n",
    "\n",
    "# backward function is how you calc derivatives in pytorch (name is because function is a node in a graph and to derive we \n",
    "# go backwards in this graph, this is what pytorch does behind the scenes)\n",
    "dy = y.backward()\n",
    "dy_x_is_2 = x.grad # here is how we get the explicit differentiation of dy/dx(x = 2)\n",
    "print(dy_x_is_2)\n",
    "\n",
    "# here is an example of partial derivaties \n",
    "u = torch.tensor(1.0, requires_grad=True)\n",
    "v = torch.tensor(2.0, requires_grad=True)\n",
    "f = u*v + u**2\n",
    "\n",
    "df = f.backward() # this calcs both df/du and df/dv \n",
    "u.grad # shows derivative of f wrt u and inputs val for u \n",
    "v.grad"
   ]
  }
 ],
 "metadata": {
  "kernelspec": {
   "display_name": "Python 3",
   "language": "python",
   "name": "python3"
  },
  "language_info": {
   "codemirror_mode": {
    "name": "ipython",
    "version": 3
   },
   "file_extension": ".py",
   "mimetype": "text/x-python",
   "name": "python",
   "nbconvert_exporter": "python",
   "pygments_lexer": "ipython3",
   "version": "3.8.3"
  },
  "orig_nbformat": 4
 },
 "nbformat": 4,
 "nbformat_minor": 2
}
