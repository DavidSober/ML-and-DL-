{
 "cells": [
  {
   "cell_type": "code",
   "execution_count": 107,
   "metadata": {},
   "outputs": [],
   "source": [
    "import torch\n",
    "import numpy as np\n",
    "import pandas as pd"
   ]
  },
  {
   "attachments": {},
   "cell_type": "markdown",
   "metadata": {},
   "source": [
    "Basic tensor construction"
   ]
  },
  {
   "cell_type": "code",
   "execution_count": 17,
   "metadata": {},
   "outputs": [
    {
     "name": "stdout",
     "output_type": "stream",
     "text": [
      "tensor([ 1,  2,  3, 34,  4,  4,  5])\n",
      "tensor(3)\n",
      "torch.int64\n",
      "torch.LongTensor <class 'torch.Tensor'>\n",
      "tensor([1., 2., 3.])\n",
      "tensor([1, 2, 3], dtype=torch.int32)\n",
      "3\n",
      "torch.Size([3])\n",
      "1\n"
     ]
    }
   ],
   "source": [
    "a = torch.tensor([1,2,3,34,4,4,5])\n",
    "print(a) # shows tensor object\n",
    "print(a[2]) # same indexing as normal\n",
    "\n",
    "print(a.dtype) # shows how to find the data type of a tensor\n",
    "print(a.type(), type(a)) # shows LongTensor which is the same as \"long\" data type from java and c\n",
    "\n",
    "# you can create tensors of specific types if you want\n",
    "b = torch.FloatTensor([1,2,3])\n",
    "print(b) # note that my ints were converted into floats due to the float tensor method \n",
    "\n",
    "# c = torch.FloatTensor(['a', '2', 'd']) # this would get an error since we specified a type. it is like strong typing in c\n",
    "b = b.type(torch.IntTensor) # this is how you change data types for tensors\n",
    "print(b) # note that vals are converted back to ints from floats\n",
    "\n",
    "print(len(b)) # only gets the num of elements in a tensor\n",
    "print(b.size()) # shows the dimensional sizes (more info basically)\n",
    "print(b.ndimension()) # shows the number of dimensions \n",
    "\n"
   ]
  },
  {
   "attachments": {},
   "cell_type": "markdown",
   "metadata": {},
   "source": [
    "converting dimensions of tensors"
   ]
  },
  {
   "cell_type": "code",
   "execution_count": 23,
   "metadata": {},
   "outputs": [
    {
     "name": "stdout",
     "output_type": "stream",
     "text": [
      "tensor([[1],\n",
      "        [2],\n",
      "        [3],\n",
      "        [4],\n",
      "        [5]])\n"
     ]
    }
   ],
   "source": [
    "a = torch.tensor([1,2,3,4,5])\n",
    "\n",
    "a_cols = a.view(5,1)\n",
    "print(a_cols) # as you can see we converted a 1x5 array into a 5x1. using the view method\n",
    "              #  very odd that the \"view\" method changes the structure of a data structure but anyways\n"
   ]
  },
  {
   "attachments": {},
   "cell_type": "markdown",
   "metadata": {},
   "source": [
    "Note for below since numpy_array was used to create torch_tensor and back_to_numpy, changing numpy_array will change the latter two as well. perhaps there is a way to make a copy()?"
   ]
  },
  {
   "cell_type": "code",
   "execution_count": 29,
   "metadata": {},
   "outputs": [
    {
     "name": "stdout",
     "output_type": "stream",
     "text": [
      "tensor([[1],\n",
      "        [2],\n",
      "        [3],\n",
      "        [4],\n",
      "        [5]])\n",
      "\n",
      "[1 2 3 4 5 6]\n",
      "tensor([1, 2, 3, 4, 5, 6], dtype=torch.int32)\n"
     ]
    }
   ],
   "source": [
    "a_cols_naive = a.view(-1,1) # even if we do not know the dimensions of a we can use -1 and torch will just use max dim\n",
    "print(a_cols_naive)\n",
    "print() \n",
    "# numpy to torch conversion (this might come up alot or dataframe to tensor conversion)\n",
    "numpy_array = np.array([1,2,3,4,5,6])\n",
    "print(numpy_array)\n",
    "torch_tensor = torch.from_numpy(numpy_array) # convert np array into tensor\n",
    "print(torch_tensor)\n",
    "back_to_numpy = torch_tensor.numpy()\n"
   ]
  },
  {
   "cell_type": "code",
   "execution_count": 37,
   "metadata": {},
   "outputs": [
    {
     "name": "stdout",
     "output_type": "stream",
     "text": [
      "0    1\n",
      "1    2\n",
      "2    3\n",
      "3    4\n",
      "4    5\n",
      "dtype: int64\n",
      "tensor([1, 2, 3, 4, 5])\n"
     ]
    }
   ],
   "source": [
    "# converting pandas series to tensor\n",
    "pandas_series = pd.Series([1,2,3,4,5])\n",
    "pandas_to_torch = torch.from_numpy(pandas_series.values) # note we needed to use the series values \n",
    "print(pandas_series)\n",
    "print(pandas_to_torch)\n",
    "# tensor to list conversion\n",
    "this_tensor = torch.tensor([1,2,3,4])\n",
    "torch2list = this_tensor.tolist()\n"
   ]
  },
  {
   "attachments": {},
   "cell_type": "markdown",
   "metadata": {},
   "source": [
    "just know that individual values of a tensor are also a tensor"
   ]
  },
  {
   "attachments": {},
   "cell_type": "markdown",
   "metadata": {},
   "source": [
    "also know that a tensor is not the same as a python number and thus we sometimes should convert a tensor element into a python number as shown below\n",
    "- note that the same logic can apply with a list: use .tolist()"
   ]
  },
  {
   "cell_type": "code",
   "execution_count": 39,
   "metadata": {},
   "outputs": [
    {
     "name": "stdout",
     "output_type": "stream",
     "text": [
      "tensor(2)\n",
      "2\n"
     ]
    }
   ],
   "source": [
    "tensorTest = torch.tensor([1,2,3,45,5])\n",
    "tensorElement = tensorTest[0] # this is a tensor el\n",
    "print(1 + tensorElement) # okay... so note that the result is also a tensor \n",
    "tensor2python = tensorElement.item() # converts tensor to py num\n",
    "print(1 + tensor2python) # note that now the result is just a normal python int"
   ]
  },
  {
   "attachments": {},
   "cell_type": "markdown",
   "metadata": {},
   "source": [
    "## Indexing and slicing \n",
    "- note that slicing is using the same logic as slicing in normal python lists"
   ]
  },
  {
   "cell_type": "code",
   "execution_count": 43,
   "metadata": {},
   "outputs": [
    {
     "name": "stdout",
     "output_type": "stream",
     "text": [
      "tensor([1, 2, 3])\n",
      "tensor([ 20,   1,   2, 300, 400])\n"
     ]
    }
   ],
   "source": [
    "c = torch.tensor([20,1,2,3,0])\n",
    "b = c[1:4] # as with normal py left side of colon is 0 indexed, right side is 1 indexed\n",
    "print(b) # slicing \n",
    "c[3:5] = torch.tensor([300.0, 400.0]) # you can change the vals of a slice and affec the og tensor on the fly\n",
    "print(c) # same logic as py lists really."
   ]
  },
  {
   "attachments": {},
   "cell_type": "markdown",
   "metadata": {},
   "source": [
    "## Vector Addition and Subtraction "
   ]
  },
  {
   "cell_type": "code",
   "execution_count": 54,
   "metadata": {},
   "outputs": [
    {
     "name": "stdout",
     "output_type": "stream",
     "text": [
      "tensor([[1],\n",
      "        [0]])\n",
      "tensor([[0],\n",
      "        [1]])\n",
      "========================\n",
      "u + v =  \n",
      "tensor([[1],\n",
      "        [1]])\n",
      "========================\n",
      "scalar multiply 2y\n",
      "tensor([[2],\n",
      "        [4]])\n"
     ]
    }
   ],
   "source": [
    "# first lets make the two vectors that we will use u, v \n",
    "u = torch.tensor([[1], [0]])\n",
    "v = torch.tensor([[0], [1]])\n",
    "print(u)\n",
    "print(v)\n",
    "# now let us add them and store them in z\n",
    "z = u + v\n",
    "print('========================')\n",
    "print('u + v =', ' ')\n",
    "print(z)\n",
    "# now let us try vector scalar multiplication\n",
    "y = torch.tensor([[1],[2]])\n",
    "z = 2*y\n",
    "print('========================')\n",
    "print('scalar multiply 2y')\n",
    "print(z)"
   ]
  },
  {
   "attachments": {},
   "cell_type": "markdown",
   "metadata": {},
   "source": [
    "element wise multiplication of two tensors/vectors"
   ]
  },
  {
   "cell_type": "code",
   "execution_count": 58,
   "metadata": {},
   "outputs": [
    {
     "name": "stdout",
     "output_type": "stream",
     "text": [
      "u = \n",
      "tensor([[1],\n",
      "        [2]])\n",
      "v = \n",
      "tensor([[3],\n",
      "        [2]])\n",
      "u * v = \n",
      "tensor([[3],\n",
      "        [4]])\n"
     ]
    }
   ],
   "source": [
    "u = torch.tensor([[1], [2]])\n",
    "v = torch.tensor([[3], [2]])\n",
    "print('u = ')\n",
    "print(u)\n",
    "print('v = ')\n",
    "print(v)\n",
    "z = u * v\n",
    "print('u * v = ')\n",
    "print(z)"
   ]
  },
  {
   "attachments": {},
   "cell_type": "markdown",
   "metadata": {},
   "source": [
    "## dot product\n",
    "- note only works on 1D tensors so the above tensors u and v had to be rewritten as 1D for this to work"
   ]
  },
  {
   "cell_type": "code",
   "execution_count": 62,
   "metadata": {},
   "outputs": [
    {
     "name": "stdout",
     "output_type": "stream",
     "text": [
      "u = \n",
      "tensor([1, 2])\n",
      "v = \n",
      "tensor([3, 2])\n",
      "tensor(7)\n"
     ]
    }
   ],
   "source": [
    "u = torch.tensor([1,2])\n",
    "v = torch.tensor([3, 1]) # note we had to convert the above tensors into 1D for the dot product to work\n",
    "print('u = ')\n",
    "print(u)\n",
    "print('v = ')\n",
    "print(v)\n",
    "z = torch.dot(u, v) \n",
    "print(z)"
   ]
  },
  {
   "cell_type": "code",
   "execution_count": 64,
   "metadata": {},
   "outputs": [
    {
     "name": "stdout",
     "output_type": "stream",
     "text": [
      "tensor([ 2,  3, 35,  5])\n"
     ]
    }
   ],
   "source": [
    "# \"broadcasting\" in torch is simple and done as follows\n",
    "u = torch.tensor([1,2,34,4])\n",
    "broadcastOne = u + 1 \n",
    "print(broadcastOne)"
   ]
  },
  {
   "attachments": {},
   "cell_type": "markdown",
   "metadata": {},
   "source": [
    "## Universal Functions"
   ]
  },
  {
   "cell_type": "code",
   "execution_count": 80,
   "metadata": {},
   "outputs": [
    {
     "name": "stdout",
     "output_type": "stream",
     "text": [
      "tensor(0.)\n",
      "mean is =\n",
      "tensor(5)\n"
     ]
    }
   ],
   "source": [
    "a = torch.FloatTensor([1,-1,1,-1]) # we needed to use a float \n",
    "# can calc mean for all elements as follows\n",
    "# note that mean only works on long or float\n",
    "a_mean = a.mean()\n",
    "print(a_mean)\n",
    "b = torch.tensor([1,2,3,4,5])\n",
    "# finding max is simple and requires no dtype like with mean\n",
    "c = b.max()\n",
    "print('mean is =')\n",
    "print(c)"
   ]
  },
  {
   "cell_type": "code",
   "execution_count": 84,
   "metadata": {},
   "outputs": [
    {
     "name": "stdout",
     "output_type": "stream",
     "text": [
      "tensor([ 0.0000e+00,  1.0000e+00, -8.7423e-08])\n"
     ]
    }
   ],
   "source": [
    "# can create pi with numpy as follows\n",
    "np.pi\n",
    "x = torch.tensor([0, np.pi/2, np.pi])\n",
    "# can use TRIG functions as follows and apply them to a vector x\n",
    "y = torch.sin(x)\n",
    "print(y)\n"
   ]
  },
  {
   "attachments": {},
   "cell_type": "markdown",
   "metadata": {},
   "source": [
    "### Line space"
   ]
  },
  {
   "cell_type": "code",
   "execution_count": 92,
   "metadata": {},
   "outputs": [
    {
     "name": "stdout",
     "output_type": "stream",
     "text": [
      "tensor([-2., -1.,  0.,  1.,  2.])\n",
      "tensor([-2.0000, -1.5000, -1.0000, -0.5000,  0.0000,  0.5000,  1.0000,  1.5000,\n",
      "         2.0000])\n"
     ]
    }
   ],
   "source": [
    "# line space creates an interval with evenly spaced elements (it is basically the range function)\n",
    "x = torch.linspace(-2,2, steps=5) # looks similar to the range function tbh\n",
    "print(x)\n",
    "# big difference is we can have more steps than integers that would fit in our interval\n",
    "# example here is we have steps=9\n",
    "x = torch.linspace(-2,2, steps=9)\n",
    "print(x)"
   ]
  },
  {
   "cell_type": "code",
   "execution_count": 93,
   "metadata": {},
   "outputs": [
    {
     "name": "stdout",
     "output_type": "stream",
     "text": [
      "tensor([0.0000, 0.0635, 0.1269, 0.1904, 0.2539, 0.3173, 0.3808, 0.4443, 0.5077,\n",
      "        0.5712, 0.6347, 0.6981, 0.7616, 0.8251, 0.8885, 0.9520, 1.0155, 1.0789,\n",
      "        1.1424, 1.2059, 1.2693, 1.3328, 1.3963, 1.4597, 1.5232, 1.5867, 1.6501,\n",
      "        1.7136, 1.7771, 1.8405, 1.9040, 1.9675, 2.0309, 2.0944, 2.1579, 2.2213,\n",
      "        2.2848, 2.3483, 2.4117, 2.4752, 2.5387, 2.6021, 2.6656, 2.7291, 2.7925,\n",
      "        2.8560, 2.9195, 2.9829, 3.0464, 3.1099, 3.1733, 3.2368, 3.3003, 3.3637,\n",
      "        3.4272, 3.4907, 3.5541, 3.6176, 3.6811, 3.7445, 3.8080, 3.8715, 3.9349,\n",
      "        3.9984, 4.0619, 4.1253, 4.1888, 4.2523, 4.3157, 4.3792, 4.4427, 4.5061,\n",
      "        4.5696, 4.6331, 4.6965, 4.7600, 4.8235, 4.8869, 4.9504, 5.0139, 5.0773,\n",
      "        5.1408, 5.2043, 5.2677, 5.3312, 5.3947, 5.4581, 5.5216, 5.5851, 5.6485,\n",
      "        5.7120, 5.7755, 5.8389, 5.9024, 5.9659, 6.0293, 6.0928, 6.1563, 6.2197,\n",
      "        6.2832])\n"
     ]
    }
   ],
   "source": [
    "# we can use linespace to generate 100 evenly spaced nums on the interval from [0, 2pi]\n",
    "x = torch.linspace(0, 2*np.pi, steps=100)\n",
    "print(x)"
   ]
  },
  {
   "cell_type": "code",
   "execution_count": 103,
   "metadata": {},
   "outputs": [
    {
     "name": "stdout",
     "output_type": "stream",
     "text": [
      "tensor([ 0.0000e+00,  6.3424e-02,  1.2659e-01,  1.8925e-01,  2.5115e-01,\n",
      "         3.1203e-01,  3.7166e-01,  4.2979e-01,  4.8620e-01,  5.4064e-01,\n",
      "         5.9291e-01,  6.4279e-01,  6.9008e-01,  7.3459e-01,  7.7615e-01,\n",
      "         8.1458e-01,  8.4973e-01,  8.8145e-01,  9.0963e-01,  9.3415e-01,\n",
      "         9.5490e-01,  9.7181e-01,  9.8481e-01,  9.9384e-01,  9.9887e-01,\n",
      "         9.9987e-01,  9.9685e-01,  9.8982e-01,  9.7880e-01,  9.6384e-01,\n",
      "         9.4500e-01,  9.2235e-01,  8.9599e-01,  8.6603e-01,  8.3257e-01,\n",
      "         7.9576e-01,  7.5575e-01,  7.1269e-01,  6.6677e-01,  6.1816e-01,\n",
      "         5.6706e-01,  5.1368e-01,  4.5823e-01,  4.0093e-01,  3.4202e-01,\n",
      "         2.8173e-01,  2.2031e-01,  1.5800e-01,  9.5056e-02,  3.1728e-02,\n",
      "        -3.1728e-02, -9.5056e-02, -1.5800e-01, -2.2031e-01, -2.8173e-01,\n",
      "        -3.4202e-01, -4.0093e-01, -4.5823e-01, -5.1368e-01, -5.6706e-01,\n",
      "        -6.1816e-01, -6.6677e-01, -7.1269e-01, -7.5575e-01, -7.9576e-01,\n",
      "        -8.3257e-01, -8.6603e-01, -8.9599e-01, -9.2235e-01, -9.4500e-01,\n",
      "        -9.6384e-01, -9.7880e-01, -9.8982e-01, -9.9685e-01, -9.9987e-01,\n",
      "        -9.9887e-01, -9.9384e-01, -9.8481e-01, -9.7181e-01, -9.5490e-01,\n",
      "        -9.3415e-01, -9.0963e-01, -8.8145e-01, -8.4973e-01, -8.1458e-01,\n",
      "        -7.7615e-01, -7.3459e-01, -6.9008e-01, -6.4279e-01, -5.9291e-01,\n",
      "        -5.4064e-01, -4.8620e-01, -4.2979e-01, -3.7166e-01, -3.1203e-01,\n",
      "        -2.5115e-01, -1.8925e-01, -1.2659e-01, -6.3424e-02,  1.7485e-07])\n"
     ]
    }
   ],
   "source": [
    "y = torch.sin(x) # we could in theory plot this and get a nice sine wave\n",
    "print(y)"
   ]
  },
  {
   "cell_type": "code",
   "execution_count": 108,
   "metadata": {},
   "outputs": [
    {
     "data": {
      "text/plain": [
       "[<matplotlib.lines.Line2D at 0x203b7de6af0>]"
      ]
     },
     "execution_count": 108,
     "metadata": {},
     "output_type": "execute_result"
    },
    {
     "data": {
      "image/png": "[encoded data removed]",
      "text/plain": [
       "<Figure size 432x288 with 1 Axes>"
      ]
     },
     "metadata": {
      "needs_background": "light"
     },
     "output_type": "display_data"
    }
   ],
   "source": [
    "# LET US PLOT\n",
    "import matplotlib.pyplot as plt\n",
    "# in notebooks the command below to actually plot\n",
    "%matplotlib inline\n",
    "# note we had to convert to numpy first to use this... matplotlib does not have native support for tensors it seems\n",
    "plt.plot(x.numpy(), y.numpy()) "
   ]
  }
 ],
 "metadata": {
  "kernelspec": {
   "display_name": "Python 3",
   "language": "python",
   "name": "python3"
  },
  "language_info": {
   "codemirror_mode": {
    "name": "ipython",
    "version": 3
   },
   "file_extension": ".py",
   "mimetype": "text/x-python",
   "name": "python",
   "nbconvert_exporter": "python",
   "pygments_lexer": "ipython3",
   "version": "3.8.3"
  },
  "orig_nbformat": 4
 },
 "nbformat": 4,
 "nbformat_minor": 2
}
