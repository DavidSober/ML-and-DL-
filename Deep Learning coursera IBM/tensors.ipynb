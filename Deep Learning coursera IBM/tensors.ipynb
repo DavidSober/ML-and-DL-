{
 "cells": [
  {
   "cell_type": "code",
   "execution_count": 30,
   "metadata": {},
   "outputs": [],
   "source": [
    "import torch\n",
    "import numpy as np\n",
    "import pandas as pd"
   ]
  },
  {
   "attachments": {},
   "cell_type": "markdown",
   "metadata": {},
   "source": [
    "Basic tensor construction"
   ]
  },
  {
   "cell_type": "code",
   "execution_count": 17,
   "metadata": {},
   "outputs": [
    {
     "name": "stdout",
     "output_type": "stream",
     "text": [
      "tensor([ 1,  2,  3, 34,  4,  4,  5])\n",
      "tensor(3)\n",
      "torch.int64\n",
      "torch.LongTensor <class 'torch.Tensor'>\n",
      "tensor([1., 2., 3.])\n",
      "tensor([1, 2, 3], dtype=torch.int32)\n",
      "3\n",
      "torch.Size([3])\n",
      "1\n"
     ]
    }
   ],
   "source": [
    "a = torch.tensor([1,2,3,34,4,4,5])\n",
    "print(a) # shows tensor object\n",
    "print(a[2]) # same indexing as normal\n",
    "\n",
    "print(a.dtype) # shows how to find the data type of a tensor\n",
    "print(a.type(), type(a)) # shows LongTensor which is the same as \"long\" data type from java and c\n",
    "\n",
    "# you can create tensors of specific types if you want\n",
    "b = torch.FloatTensor([1,2,3])\n",
    "print(b) # note that my ints were converted into floats due to the float tensor method \n",
    "\n",
    "# c = torch.FloatTensor(['a', '2', 'd']) # this would get an error since we specified a type. it is like strong typing in c\n",
    "b = b.type(torch.IntTensor) # this is how you change data types for tensors\n",
    "print(b) # note that vals are converted back to ints from floats\n",
    "\n",
    "print(len(b)) # only gets the num of elements in a tensor\n",
    "print(b.size()) # shows the dimensional sizes (more info basically)\n",
    "print(b.ndimension()) # shows the number of dimensions \n",
    "\n"
   ]
  },
  {
   "attachments": {},
   "cell_type": "markdown",
   "metadata": {},
   "source": [
    "converting dimensions of tensors"
   ]
  },
  {
   "cell_type": "code",
   "execution_count": 23,
   "metadata": {},
   "outputs": [
    {
     "name": "stdout",
     "output_type": "stream",
     "text": [
      "tensor([[1],\n",
      "        [2],\n",
      "        [3],\n",
      "        [4],\n",
      "        [5]])\n"
     ]
    }
   ],
   "source": [
    "a = torch.tensor([1,2,3,4,5])\n",
    "\n",
    "a_cols = a.view(5,1)\n",
    "print(a_cols) # as you can see we converted a 1x5 array into a 5x1. using the view method\n",
    "              #  very odd that the \"view\" method changes the structure of a data structure but anyways\n"
   ]
  },
  {
   "attachments": {},
   "cell_type": "markdown",
   "metadata": {},
   "source": [
    "Note for below since numpy_array was used to create torch_tensor and back_to_numpy, changing numpy_array will change the latter two as well. perhaps there is a way to make a copy()?"
   ]
  },
  {
   "cell_type": "code",
   "execution_count": 29,
   "metadata": {},
   "outputs": [
    {
     "name": "stdout",
     "output_type": "stream",
     "text": [
      "tensor([[1],\n",
      "        [2],\n",
      "        [3],\n",
      "        [4],\n",
      "        [5]])\n",
      "\n",
      "[1 2 3 4 5 6]\n",
      "tensor([1, 2, 3, 4, 5, 6], dtype=torch.int32)\n"
     ]
    }
   ],
   "source": [
    "a_cols_naive = a.view(-1,1) # even if we do not know the dimensions of a we can use -1 and torch will just use max dim\n",
    "print(a_cols_naive)\n",
    "print() \n",
    "# numpy to torch conversion (this might come up alot or dataframe to tensor conversion)\n",
    "numpy_array = np.array([1,2,3,4,5,6])\n",
    "print(numpy_array)\n",
    "torch_tensor = torch.from_numpy(numpy_array) # convert np array into tensor\n",
    "print(torch_tensor)\n",
    "back_to_numpy = torch_tensor.numpy()\n"
   ]
  },
  {
   "cell_type": "code",
   "execution_count": 37,
   "metadata": {},
   "outputs": [
    {
     "name": "stdout",
     "output_type": "stream",
     "text": [
      "0    1\n",
      "1    2\n",
      "2    3\n",
      "3    4\n",
      "4    5\n",
      "dtype: int64\n",
      "tensor([1, 2, 3, 4, 5])\n"
     ]
    }
   ],
   "source": [
    "# converting pandas series to tensor\n",
    "pandas_series = pd.Series([1,2,3,4,5])\n",
    "pandas_to_torch = torch.from_numpy(pandas_series.values) # note we needed to use the series values \n",
    "print(pandas_series)\n",
    "print(pandas_to_torch)\n",
    "# tensor to list conversion\n",
    "this_tensor = torch.tensor([1,2,3,4])\n",
    "torch2list = this_tensor.tolist()\n"
   ]
  },
  {
   "attachments": {},
   "cell_type": "markdown",
   "metadata": {},
   "source": [
    "just know that individual values of a tensor are also a tensor"
   ]
  },
  {
   "attachments": {},
   "cell_type": "markdown",
   "metadata": {},
   "source": [
    "also know that a tensor is not the same as a python number and thus we sometimes should convert a tensor element into a python number as shown below\n",
    "- note that the same logic can apply with a list: use .tolist()"
   ]
  },
  {
   "cell_type": "code",
   "execution_count": 39,
   "metadata": {},
   "outputs": [
    {
     "name": "stdout",
     "output_type": "stream",
     "text": [
      "tensor(2)\n",
      "2\n"
     ]
    }
   ],
   "source": [
    "tensorTest = torch.tensor([1,2,3,45,5])\n",
    "tensorElement = tensorTest[0] # this is a tensor el\n",
    "print(1 + tensorElement) # okay... so note that the result is also a tensor \n",
    "tensor2python = tensorElement.item() # converts tensor to py num\n",
    "print(1 + tensor2python) # note that now the result is just a normal python int"
   ]
  },
  {
   "attachments": {},
   "cell_type": "markdown",
   "metadata": {},
   "source": [
    "## Indexing and slicing \n",
    "- note that slicing is using the same logic as slicing in normal python lists"
   ]
  },
  {
   "cell_type": "code",
   "execution_count": 43,
   "metadata": {},
   "outputs": [
    {
     "name": "stdout",
     "output_type": "stream",
     "text": [
      "tensor([1, 2, 3])\n",
      "tensor([ 20,   1,   2, 300, 400])\n"
     ]
    }
   ],
   "source": [
    "c = torch.tensor([20,1,2,3,0])\n",
    "b = c[1:4] # as with normal py left side of colon is 0 indexed, right side is 1 indexed\n",
    "print(b) # slicing \n",
    "c[3:5] = torch.tensor([300.0, 400.0]) # you can change the vals of a slice and affec the og tensor on the fly\n",
    "print(c) # same logic as py lists really."
   ]
  },
  {
   "attachments": {},
   "cell_type": "markdown",
   "metadata": {},
   "source": [
    "## Vector Addition and Subtraction "
   ]
  },
  {
   "cell_type": "code",
   "execution_count": 54,
   "metadata": {},
   "outputs": [
    {
     "name": "stdout",
     "output_type": "stream",
     "text": [
      "tensor([[1],\n",
      "        [0]])\n",
      "tensor([[0],\n",
      "        [1]])\n",
      "========================\n",
      "u + v =  \n",
      "tensor([[1],\n",
      "        [1]])\n",
      "========================\n",
      "scalar multiply 2y\n",
      "tensor([[2],\n",
      "        [4]])\n"
     ]
    }
   ],
   "source": [
    "# first lets make the two vectors that we will use u, v \n",
    "u = torch.tensor([[1], [0]])\n",
    "v = torch.tensor([[0], [1]])\n",
    "print(u)\n",
    "print(v)\n",
    "# now let us add them and store them in z\n",
    "z = u + v\n",
    "print('========================')\n",
    "print('u + v =', ' ')\n",
    "print(z)\n",
    "# now let us try vector scalar multiplication\n",
    "y = torch.tensor([[1],[2]])\n",
    "z = 2*y\n",
    "print('========================')\n",
    "print('scalar multiply 2y')\n",
    "print(z)"
   ]
  },
  {
   "attachments": {},
   "cell_type": "markdown",
   "metadata": {},
   "source": [
    "element wise multiplication of two tensors/vectors"
   ]
  },
  {
   "cell_type": "code",
   "execution_count": 58,
   "metadata": {},
   "outputs": [
    {
     "name": "stdout",
     "output_type": "stream",
     "text": [
      "u = \n",
      "tensor([[1],\n",
      "        [2]])\n",
      "v = \n",
      "tensor([[3],\n",
      "        [2]])\n",
      "u * v = \n",
      "tensor([[3],\n",
      "        [4]])\n"
     ]
    }
   ],
   "source": [
    "u = torch.tensor([[1], [2]])\n",
    "v = torch.tensor([[3], [2]])\n",
    "print('u = ')\n",
    "print(u)\n",
    "print('v = ')\n",
    "print(v)\n",
    "z = u * v\n",
    "print('u * v = ')\n",
    "print(z)"
   ]
  },
  {
   "attachments": {},
   "cell_type": "markdown",
   "metadata": {},
   "source": [
    "## dot product\n",
    "- note only works on 1D tensors so the above tensors u and v had to be rewritten as 1D for this to work"
   ]
  },
  {
   "cell_type": "code",
   "execution_count": 62,
   "metadata": {},
   "outputs": [
    {
     "name": "stdout",
     "output_type": "stream",
     "text": [
      "u = \n",
      "tensor([1, 2])\n",
      "v = \n",
      "tensor([3, 2])\n",
      "tensor(7)\n"
     ]
    }
   ],
   "source": [
    "u = torch.tensor([1,2])\n",
    "v = torch.tensor([3, 1]) # note we had to convert the above tensors into 1D for the dot product to work\n",
    "print('u = ')\n",
    "print(u)\n",
    "print('v = ')\n",
    "print(v)\n",
    "z = torch.dot(u, v) \n",
    "print(z)"
   ]
  },
  {
   "cell_type": "code",
   "execution_count": 64,
   "metadata": {},
   "outputs": [
    {
     "name": "stdout",
     "output_type": "stream",
     "text": [
      "tensor([ 2,  3, 35,  5])\n"
     ]
    }
   ],
   "source": [
    "# \"broadcasting\" in torch is simple and done as follows\n",
    "u = torch.tensor([1,2,34,4])\n",
    "broadcastOne = u + 1 \n",
    "print(broadcastOne)"
   ]
  },
  {
   "attachments": {},
   "cell_type": "markdown",
   "metadata": {},
   "source": [
    "## Universal Functions"
   ]
  },
  {
   "cell_type": "code",
   "execution_count": 66,
   "metadata": {},
   "outputs": [
    {
     "ename": "RuntimeError",
     "evalue": "mean(): could not infer output dtype. Input dtype must be either a floating point or complex dtype. Got: Long",
     "output_type": "error",
     "traceback": [
      "\u001b[1;31m---------------------------------------------------------------------------\u001b[0m",
      "\u001b[1;31mRuntimeError\u001b[0m                              Traceback (most recent call last)",
      "\u001b[1;32mc:\\Users\\David Soberanis\\Documents\\GitHub\\SkLearn-User-Guide-Notes-\\Deep Learning coursera IBM\\tensors.ipynb Cell 22\u001b[0m in \u001b[0;36m<module>\u001b[1;34m\u001b[0m\n\u001b[0;32m      <a href='vscode-notebook-cell:/c%3A/Users/David%20Soberanis/Documents/GitHub/SkLearn-User-Guide-Notes-/Deep%20Learning%20coursera%20IBM/tensors.ipynb#X26sZmlsZQ%3D%3D?line=0'>1</a>\u001b[0m a \u001b[39m=\u001b[39m torch\u001b[39m.\u001b[39mtensor([\u001b[39m1\u001b[39m,\u001b[39m-\u001b[39m\u001b[39m1\u001b[39m,\u001b[39m1\u001b[39m,\u001b[39m-\u001b[39m\u001b[39m1\u001b[39m])\n\u001b[0;32m      <a href='vscode-notebook-cell:/c%3A/Users/David%20Soberanis/Documents/GitHub/SkLearn-User-Guide-Notes-/Deep%20Learning%20coursera%20IBM/tensors.ipynb#X26sZmlsZQ%3D%3D?line=1'>2</a>\u001b[0m \u001b[39m# can calc mean for all elements as follows\u001b[39;00m\n\u001b[1;32m----> <a href='vscode-notebook-cell:/c%3A/Users/David%20Soberanis/Documents/GitHub/SkLearn-User-Guide-Notes-/Deep%20Learning%20coursera%20IBM/tensors.ipynb#X26sZmlsZQ%3D%3D?line=2'>3</a>\u001b[0m a_mean \u001b[39m=\u001b[39m a\u001b[39m.\u001b[39;49mmean()\n",
      "\u001b[1;31mRuntimeError\u001b[0m: mean(): could not infer output dtype. Input dtype must be either a floating point or complex dtype. Got: Long"
     ]
    }
   ],
   "source": [
    "a = torch.tensor([1,-1,1,-1])\n",
    "# can calc mean for all elements as follows\n",
    "a_mean = a.mean()"
   ]
  }
 ],
 "metadata": {
  "kernelspec": {
   "display_name": "Python 3",
   "language": "python",
   "name": "python3"
  },
  "language_info": {
   "codemirror_mode": {
    "name": "ipython",
    "version": 3
   },
   "file_extension": ".py",
   "mimetype": "text/x-python",
   "name": "python",
   "nbconvert_exporter": "python",
   "pygments_lexer": "ipython3",
   "version": "3.8.3"
  },
  "orig_nbformat": 4
 },
 "nbformat": 4,
 "nbformat_minor": 2
}
