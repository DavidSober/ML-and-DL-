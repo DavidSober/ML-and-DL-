{
 "cells": [
  {
   "cell_type": "code",
   "execution_count": 2,
   "metadata": {},
   "outputs": [],
   "source": [
    "import torch"
   ]
  },
  {
   "attachments": {},
   "cell_type": "markdown",
   "metadata": {},
   "source": [
    "Basic tensor construction"
   ]
  },
  {
   "cell_type": "code",
   "execution_count": 17,
   "metadata": {},
   "outputs": [
    {
     "name": "stdout",
     "output_type": "stream",
     "text": [
      "tensor([ 1,  2,  3, 34,  4,  4,  5])\n",
      "tensor(3)\n",
      "torch.int64\n",
      "torch.LongTensor <class 'torch.Tensor'>\n",
      "tensor([1., 2., 3.])\n",
      "tensor([1, 2, 3], dtype=torch.int32)\n",
      "3\n",
      "torch.Size([3])\n",
      "1\n"
     ]
    }
   ],
   "source": [
    "a = torch.tensor([1,2,3,34,4,4,5])\n",
    "print(a) # shows tensor object\n",
    "print(a[2]) # same indexing as normal\n",
    "\n",
    "print(a.dtype) # shows how to find the data type of a tensor\n",
    "print(a.type(), type(a)) # shows LongTensor which is the same as \"long\" data type from java and c\n",
    "\n",
    "# you can create tensors of specific types if you want\n",
    "b = torch.FloatTensor([1,2,3])\n",
    "print(b) # note that my ints were converted into floats due to the float tensor method \n",
    "\n",
    "# c = torch.FloatTensor(['a', '2', 'd']) # this would get an error since we specified a type. it is like strong typing in c\n",
    "b = b.type(torch.IntTensor) # this is how you change data types for tensors\n",
    "print(b) # note that vals are converted back to ints from floats\n",
    "\n",
    "print(len(b)) # only gets the num of elements in a tensor\n",
    "print(b.size()) # shows the dimensional sizes (more info basically)\n",
    "print(b.ndimension()) # shows the number of dimensions \n",
    "\n"
   ]
  },
  {
   "attachments": {},
   "cell_type": "markdown",
   "metadata": {},
   "source": [
    "converting dimensions of tensors"
   ]
  },
  {
   "cell_type": "code",
   "execution_count": 23,
   "metadata": {},
   "outputs": [
    {
     "name": "stdout",
     "output_type": "stream",
     "text": [
      "tensor([[1],\n",
      "        [2],\n",
      "        [3],\n",
      "        [4],\n",
      "        [5]])\n"
     ]
    }
   ],
   "source": [
    "a = torch.tensor([1,2,3,4,5])\n",
    "\n",
    "a_cols = a.view(5,1)\n",
    "print(a_cols) # as you can see we converted a 1x5 array into a 5x1. using the view method\n",
    "              #  very odd that the \"view\" method changes the structure of a data structure but anyways\n"
   ]
  },
  {
   "cell_type": "code",
   "execution_count": 24,
   "metadata": {},
   "outputs": [
    {
     "name": "stdout",
     "output_type": "stream",
     "text": [
      "tensor([[1],\n",
      "        [2],\n",
      "        [3],\n",
      "        [4],\n",
      "        [5]])\n"
     ]
    }
   ],
   "source": [
    "a_cols_naive = a.view(-1,1) # even if we do not know the dimensions of a we can use -1 and torch will just use max dim\n",
    "print(a_cols_naive)"
   ]
  },
  {
   "cell_type": "code",
   "execution_count": null,
   "metadata": {},
   "outputs": [],
   "source": []
  }
 ],
 "metadata": {
  "kernelspec": {
   "display_name": "Python 3",
   "language": "python",
   "name": "python3"
  },
  "language_info": {
   "codemirror_mode": {
    "name": "ipython",
    "version": 3
   },
   "file_extension": ".py",
   "mimetype": "text/x-python",
   "name": "python",
   "nbconvert_exporter": "python",
   "pygments_lexer": "ipython3",
   "version": "3.8.3"
  },
  "orig_nbformat": 4
 },
 "nbformat": 4,
 "nbformat_minor": 2
}
