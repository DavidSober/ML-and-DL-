{
 "cells": [
  {
   "cell_type": "code",
   "execution_count": 30,
   "metadata": {},
   "outputs": [],
   "source": [
    "import torch\n",
    "import numpy as np\n",
    "import pandas as pd"
   ]
  },
  {
   "attachments": {},
   "cell_type": "markdown",
   "metadata": {},
   "source": [
    "Basic tensor construction"
   ]
  },
  {
   "cell_type": "code",
   "execution_count": 17,
   "metadata": {},
   "outputs": [
    {
     "name": "stdout",
     "output_type": "stream",
     "text": [
      "tensor([ 1,  2,  3, 34,  4,  4,  5])\n",
      "tensor(3)\n",
      "torch.int64\n",
      "torch.LongTensor <class 'torch.Tensor'>\n",
      "tensor([1., 2., 3.])\n",
      "tensor([1, 2, 3], dtype=torch.int32)\n",
      "3\n",
      "torch.Size([3])\n",
      "1\n"
     ]
    }
   ],
   "source": [
    "a = torch.tensor([1,2,3,34,4,4,5])\n",
    "print(a) # shows tensor object\n",
    "print(a[2]) # same indexing as normal\n",
    "\n",
    "print(a.dtype) # shows how to find the data type of a tensor\n",
    "print(a.type(), type(a)) # shows LongTensor which is the same as \"long\" data type from java and c\n",
    "\n",
    "# you can create tensors of specific types if you want\n",
    "b = torch.FloatTensor([1,2,3])\n",
    "print(b) # note that my ints were converted into floats due to the float tensor method \n",
    "\n",
    "# c = torch.FloatTensor(['a', '2', 'd']) # this would get an error since we specified a type. it is like strong typing in c\n",
    "b = b.type(torch.IntTensor) # this is how you change data types for tensors\n",
    "print(b) # note that vals are converted back to ints from floats\n",
    "\n",
    "print(len(b)) # only gets the num of elements in a tensor\n",
    "print(b.size()) # shows the dimensional sizes (more info basically)\n",
    "print(b.ndimension()) # shows the number of dimensions \n",
    "\n"
   ]
  },
  {
   "attachments": {},
   "cell_type": "markdown",
   "metadata": {},
   "source": [
    "converting dimensions of tensors"
   ]
  },
  {
   "cell_type": "code",
   "execution_count": 23,
   "metadata": {},
   "outputs": [
    {
     "name": "stdout",
     "output_type": "stream",
     "text": [
      "tensor([[1],\n",
      "        [2],\n",
      "        [3],\n",
      "        [4],\n",
      "        [5]])\n"
     ]
    }
   ],
   "source": [
    "a = torch.tensor([1,2,3,4,5])\n",
    "\n",
    "a_cols = a.view(5,1)\n",
    "print(a_cols) # as you can see we converted a 1x5 array into a 5x1. using the view method\n",
    "              #  very odd that the \"view\" method changes the structure of a data structure but anyways\n"
   ]
  },
  {
   "attachments": {},
   "cell_type": "markdown",
   "metadata": {},
   "source": [
    "Note for below since numpy_array was used to create torch_tensor and back_to_numpy, changing numpy_array will change the latter two as well. perhaps there is a way to make a copy()?"
   ]
  },
  {
   "cell_type": "code",
   "execution_count": 29,
   "metadata": {},
   "outputs": [
    {
     "name": "stdout",
     "output_type": "stream",
     "text": [
      "tensor([[1],\n",
      "        [2],\n",
      "        [3],\n",
      "        [4],\n",
      "        [5]])\n",
      "\n",
      "[1 2 3 4 5 6]\n",
      "tensor([1, 2, 3, 4, 5, 6], dtype=torch.int32)\n"
     ]
    }
   ],
   "source": [
    "a_cols_naive = a.view(-1,1) # even if we do not know the dimensions of a we can use -1 and torch will just use max dim\n",
    "print(a_cols_naive)\n",
    "print() \n",
    "# numpy to torch conversion (this might come up alot or dataframe to tensor conversion)\n",
    "numpy_array = np.array([1,2,3,4,5,6])\n",
    "print(numpy_array)\n",
    "torch_tensor = torch.from_numpy(numpy_array) # convert np array into tensor\n",
    "print(torch_tensor)\n",
    "back_to_numpy = torch_tensor.numpy()\n"
   ]
  },
  {
   "cell_type": "code",
   "execution_count": 37,
   "metadata": {},
   "outputs": [
    {
     "name": "stdout",
     "output_type": "stream",
     "text": [
      "0    1\n",
      "1    2\n",
      "2    3\n",
      "3    4\n",
      "4    5\n",
      "dtype: int64\n",
      "tensor([1, 2, 3, 4, 5])\n"
     ]
    }
   ],
   "source": [
    "# converting pandas series to tensor\n",
    "pandas_series = pd.Series([1,2,3,4,5])\n",
    "pandas_to_torch = torch.from_numpy(pandas_series.values) # note we needed to use the series values \n",
    "print(pandas_series)\n",
    "print(pandas_to_torch)\n",
    "# tensor to list conversion\n",
    "this_tensor = torch.tensor([1,2,3,4])\n",
    "torch2list = this_tensor.tolist()\n"
   ]
  },
  {
   "attachments": {},
   "cell_type": "markdown",
   "metadata": {},
   "source": [
    "just know that individual values of a tensor are also a tensor"
   ]
  },
  {
   "cell_type": "code",
   "execution_count": null,
   "metadata": {},
   "outputs": [],
   "source": []
  }
 ],
 "metadata": {
  "kernelspec": {
   "display_name": "Python 3",
   "language": "python",
   "name": "python3"
  },
  "language_info": {
   "codemirror_mode": {
    "name": "ipython",
    "version": 3
   },
   "file_extension": ".py",
   "mimetype": "text/x-python",
   "name": "python",
   "nbconvert_exporter": "python",
   "pygments_lexer": "ipython3",
   "version": "3.8.3"
  },
  "orig_nbformat": 4
 },
 "nbformat": 4,
 "nbformat_minor": 2
}
